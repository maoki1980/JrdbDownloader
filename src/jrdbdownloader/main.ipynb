{
  "cells": [
    {
      "cell_type": "markdown",
      "metadata": {
        "id": "d2Vs9zrSNaGG"
      },
      "source": [
        "[![Open In Colab](https://colab.research.google.com/assets/colab-badge.svg)](https://colab.research.google.com/github/maoki1980/JrdbDownloader/blob/main/src/jrdbdownloader/main.ipynb)"
      ]
    },
    {
      "cell_type": "code",
      "execution_count": null,
      "metadata": {
        "colab": {
          "base_uri": "https://localhost:8080/"
        },
        "id": "Cj9VCu4sYvVq",
        "outputId": "5cbe3423-c97c-4607-9ee9-395fa2cbeb78"
      },
      "outputs": [],
      "source": [
        "!pip install python-dotenv"
      ]
    },
    {
      "cell_type": "code",
      "execution_count": null,
      "metadata": {
        "id": "mrG6QU-tXGjp"
      },
      "outputs": [],
      "source": [
        "import os\n",
        "import re\n",
        "import zipfile\n",
        "from datetime import datetime\n",
        "\n",
        "import requests\n",
        "from bs4 import BeautifulSoup\n",
        "from dotenv import load_dotenv\n",
        "from google.colab import drive\n",
        "from requests.auth import HTTPBasicAuth\n",
        "from tqdm import tqdm"
      ]
    },
    {
      "cell_type": "code",
      "execution_count": null,
      "metadata": {
        "colab": {
          "base_uri": "https://localhost:8080/"
        },
        "id": "Irr7k79mXYtk",
        "outputId": "e0518c9f-0436-4045-bcbc-87a3dd593033"
      },
      "outputs": [],
      "source": [
        "# Googleドライブをマウントする\n",
        "drive.mount(\"/content/drive/\", force_remount=True)"
      ]
    },
    {
      "cell_type": "code",
      "execution_count": null,
      "metadata": {
        "id": "Ttare9Jxwk69"
      },
      "outputs": [],
      "source": [
        "project_path = \"../../\"\n",
        "env_file = os.getenv(\"ENV_FILE\", os.path.join(project_path, \".env\"))\n",
        "load_dotenv(env_file)\n",
        "jrdb_zip_dir = os.getenv(\"JRDB_ZIP_DIR\")\n",
        "jrdb_txt_dir = os.getenv(\"JRDB_TXT_DIR\")\n",
        "jrdb_user = os.getenv(\"JRDB_USER\")\n",
        "jrdb_pass = os.getenv(\"JRDB_PASS\")"
      ]
    },
    {
      "cell_type": "code",
      "execution_count": null,
      "metadata": {
        "id": "oQzRihbTwniU"
      },
      "outputs": [],
      "source": [
        "def get_zip_links(jrdb_url, base_url):\n",
        "    response = requests.get(jrdb_url, auth=HTTPBasicAuth(jrdb_user, jrdb_pass))\n",
        "    response.raise_for_status()\n",
        "    soup = BeautifulSoup(response.content, \"html.parser\")\n",
        "    zip_links = soup.find_all(\"a\", href=True)\n",
        "    return [\n",
        "        base_url + link[\"href\"] for link in zip_links if link[\"href\"].endswith(\".zip\")\n",
        "    ]"
      ]
    },
    {
      "cell_type": "code",
      "execution_count": null,
      "metadata": {
        "id": "NQRHhinJwrd8"
      },
      "outputs": [],
      "source": [
        "def read_previous_list(file_path):\n",
        "    if os.path.exists(file_path):\n",
        "        with open(file_path, \"r\") as file:\n",
        "            return file.read().splitlines()\n",
        "    return []"
      ]
    },
    {
      "cell_type": "code",
      "execution_count": null,
      "metadata": {
        "id": "7pg_e_RHPGqu"
      },
      "outputs": [],
      "source": [
        "def save_current_list(file_path, current_list):\n",
        "    with open(file_path, \"w\") as file:\n",
        "        file.write(\"\\n\".join(current_list))"
      ]
    },
    {
      "cell_type": "code",
      "execution_count": null,
      "metadata": {
        "id": "f1ltg7Ojwx4Y"
      },
      "outputs": [],
      "source": [
        "def download_and_extract_zip(zip_urls, download_dir, extract_dir, list_file, category):\n",
        "    os.makedirs(download_dir, exist_ok=True)\n",
        "    os.makedirs(extract_dir, exist_ok=True)\n",
        "\n",
        "    previous_list = read_previous_list(list_file)\n",
        "    new_urls = [url for url in zip_urls if url not in previous_list]\n",
        "\n",
        "    print(f\"List Length of {category}: {len(new_urls)}\")\n",
        "    for zip_url in tqdm(new_urls, desc=f\"Downloading ZIP files of {category}\"):\n",
        "        zip_filename = os.path.join(download_dir, os.path.basename(zip_url))\n",
        "\n",
        "        if not os.path.exists(zip_filename):\n",
        "            try:\n",
        "                zip_response = requests.get(\n",
        "                    zip_url, auth=HTTPBasicAuth(jrdb_user, jrdb_pass)\n",
        "                )\n",
        "                zip_response.raise_for_status()\n",
        "\n",
        "                with open(zip_filename, \"wb\") as file:\n",
        "                    file.write(zip_response.content)\n",
        "\n",
        "                with zipfile.ZipFile(zip_filename, \"r\") as thezip:\n",
        "                    thezip.extractall(extract_dir)\n",
        "            except requests.exceptions.HTTPError as e:\n",
        "                if zip_response.status_code == 404:\n",
        "                    continue\n",
        "                else:\n",
        "                    print(f\"HTTP error occurred: {e}\")\n",
        "                    raise\n",
        "\n",
        "    save_current_list(list_file, zip_urls)"
      ]
    },
    {
      "cell_type": "code",
      "execution_count": null,
      "metadata": {
        "id": "L0CpFGqDw5HL"
      },
      "outputs": [],
      "source": [
        "def get_zip_urls_from_numbers(l_zip_numbers, base_url_pattern):\n",
        "    zip_urls = []\n",
        "    for number in l_zip_numbers:\n",
        "        year_prefix = int(number[:2])\n",
        "        year = 1900 + year_prefix if year_prefix >= 50 else 2000 + year_prefix\n",
        "        url = base_url_pattern.format(year=year, number=number)\n",
        "        zip_urls.append(url)\n",
        "    return zip_urls"
      ]
    },
    {
      "cell_type": "code",
      "execution_count": null,
      "metadata": {
        "id": "YMvuilhV-2fY"
      },
      "outputs": [],
      "source": [
        "def extract_six_digit_numbers(directory):\n",
        "    # 正規表現パターン：6桁の数字\n",
        "    pattern = re.compile(r\"\\d{6}\")\n",
        "    six_digit_numbers = set()\n",
        "\n",
        "    # ディレクトリを再帰的に探索\n",
        "    for root, dirs, files in os.walk(directory):\n",
        "        for file in files:\n",
        "            if file.endswith(\".zip\"):\n",
        "                # ファイル名から6桁の番号を抽出\n",
        "                matches = pattern.findall(file)\n",
        "                if matches:\n",
        "                    six_digit_numbers.update(matches)\n",
        "\n",
        "    # リストに変換して降順にソート\n",
        "    sorted_numbers = sorted(six_digit_numbers, reverse=True)\n",
        "\n",
        "    return sorted_numbers"
      ]
    },
    {
      "cell_type": "code",
      "execution_count": null,
      "metadata": {
        "id": "Z1S3aGYIXh9B"
      },
      "outputs": [],
      "source": [
        "def download_category_data(\n",
        "    page_url,\n",
        "    base_url,\n",
        "    download_dir,\n",
        "    extract_dir,\n",
        "    list_file,\n",
        "    category,\n",
        "    exclusion_prefix=None,\n",
        "):\n",
        "    zip_urls = get_zip_links(page_url, base_url)\n",
        "    if exclusion_prefix:\n",
        "        zip_urls = [\n",
        "            url\n",
        "            for url in zip_urls\n",
        "            if not os.path.basename(url).startswith(exclusion_prefix)\n",
        "        ]\n",
        "    download_and_extract_zip(zip_urls, download_dir, extract_dir, list_file, category)"
      ]
    },
    {
      "cell_type": "code",
      "execution_count": null,
      "metadata": {
        "id": "JdotLZyAYOpX"
      },
      "outputs": [],
      "source": [
        "def main():\n",
        "    # スクリプト開始時刻をログとして表示\n",
        "    print(f\"Script started at: {datetime.now()}\")\n",
        "\n",
        "    # 基本URLの定義\n",
        "    base_jrdb_url = \"http://www.jrdb.com/member/datazip\"\n",
        "\n",
        "    # ダウンロードカテゴリの設定\n",
        "    categories = [\n",
        "        (\"Paci\", f\"{base_jrdb_url}/Paci/index.html\", f\"{base_jrdb_url}/Paci/\", None),\n",
        "        (\"Ov\", f\"{base_jrdb_url}/Ov/index.html\", f\"{base_jrdb_url}/Ov/\", None),\n",
        "        (\"Sed\", f\"{base_jrdb_url}/Sed/index.html\", f\"{base_jrdb_url}/Sed/\", \"SED_\"),\n",
        "        (\"Skb\", f\"{base_jrdb_url}/Skb/index.html\", f\"{base_jrdb_url}/Skb/\", \"SKB_\"),\n",
        "        (\"Hjc\", f\"{base_jrdb_url}/Hjc/index.html\", f\"{base_jrdb_url}/Hjc/\", \"HJC_\"),\n",
        "    ]\n",
        "\n",
        "    # カテゴリデータのダウンロードと抽出\n",
        "    for category, page_url, base_url, exclusion_prefix in categories:\n",
        "        download_category_data(\n",
        "            page_url,\n",
        "            base_url,\n",
        "            os.path.join(jrdb_zip_dir, category),\n",
        "            os.path.join(jrdb_txt_dir, category),\n",
        "            os.path.join(jrdb_zip_dir, category, \"list.txt\"),\n",
        "            category,\n",
        "            exclusion_prefix,\n",
        "        )\n",
        "\n",
        "    # マスタ系データ用のダウンロードリスト作成\n",
        "    l_numbers = extract_six_digit_numbers(jrdb_zip_dir)\n",
        "    master_categories = [\n",
        "        (\"CZA\", f\"{base_jrdb_url}/Cs/{{year}}/CZA{{number}}.zip\", \"Cs\", \"list_cz.txt\"),\n",
        "        (\"CSA\", f\"{base_jrdb_url}/Cs/{{year}}/CSA{{number}}.zip\", \"Cs\", \"list_cs.txt\"),\n",
        "        (\"KZA\", f\"{base_jrdb_url}/Ks/{{year}}/KZA{{number}}.zip\", \"Ks\", \"list_kz.txt\"),\n",
        "        (\"KSA\", f\"{base_jrdb_url}/Ks/{{year}}/KSA{{number}}.zip\", \"Ks\", \"list_ks.txt\"),\n",
        "        (\"MZA\", f\"{base_jrdb_url}/Ms/{{year}}/MZA{{number}}.zip\", \"Ms\", \"list_mz.txt\"),\n",
        "        (\"MSA\", f\"{base_jrdb_url}/Ms/{{year}}/MSA{{number}}.zip\", \"Ms\", \"list_ms.txt\"),\n",
        "    ]\n",
        "\n",
        "    # マスタ系データのダウンロードと抽出\n",
        "    for category, base_url_pattern, dir_name, list_file_name in master_categories:\n",
        "        zip_urls = get_zip_urls_from_numbers(l_numbers, base_url_pattern)\n",
        "        download_and_extract_zip(\n",
        "            zip_urls,\n",
        "            os.path.join(jrdb_zip_dir, dir_name),\n",
        "            os.path.join(jrdb_txt_dir, dir_name),\n",
        "            os.path.join(jrdb_zip_dir, dir_name, list_file_name),\n",
        "            category,\n",
        "        )\n",
        "\n",
        "    # スクリプト終了時刻をログとして表示\n",
        "    print(f\"\\nScript finished at: {datetime.now()}\")\n",
        "    print(\"==================================================\")"
      ]
    },
    {
      "cell_type": "code",
      "execution_count": null,
      "metadata": {
        "colab": {
          "base_uri": "https://localhost:8080/",
          "height": 386
        },
        "id": "vJCPWjq1xByI",
        "outputId": "5530abf5-1017-4267-9680-3446dbbd7dc9"
      },
      "outputs": [],
      "source": [
        "# スクリプトが直接実行された場合にmain関数を呼び出す\n",
        "if __name__ == \"__main__\":\n",
        "    main()"
      ]
    }
  ],
  "metadata": {
    "colab": {
      "provenance": []
    },
    "kernelspec": {
      "display_name": "Python 3",
      "name": "python3"
    },
    "language_info": {
      "name": "python"
    }
  },
  "nbformat": 4,
  "nbformat_minor": 0
}
